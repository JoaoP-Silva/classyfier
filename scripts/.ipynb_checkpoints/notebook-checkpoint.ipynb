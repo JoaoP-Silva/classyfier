{
 "cells": [
  {
   "cell_type": "code",
   "execution_count": 2,
   "metadata": {
    "colab": {
     "base_uri": "https://localhost:8080/",
     "height": 373
    },
    "id": "O2XvDsWj5wiw",
    "outputId": "d78214a7-793c-42dc-d3a0-a02a42d8a035"
   },
   "outputs": [
    {
     "name": "stdout",
     "output_type": "stream",
     "text": [
      "Todos os nós:\n",
      "0 0\n",
      "1 1\n",
      "10 2\n",
      "10 5\n",
      "2 34\n",
      "2 2\n",
      "3 1\n",
      "14 0.003\n",
      "Nós da envoltória:\n",
      "0 0\n",
      "14 0.003\n",
      "2 34\n",
      "Todos os nós:\n",
      "0 0\n",
      "1 1\n",
      "10 2\n",
      "10 5\n",
      "2 34\n",
      "2 2\n",
      "3 1\n",
      "14 0.003\n",
      "Nós da envoltória:\n",
      "False\n"
     ]
    }
   ],
   "source": [
    "from Closest import *\n",
    "from convexHull import *\n",
    "from convexHullIntersect import *\n",
    " \n",
    "nodes = []\n",
    "nodes.append(Node(0,0, \"A\"))\n",
    "nodes.append(Node(1,1, \"A\"))\n",
    "nodes.append(Node(10,2, \"A\"))\n",
    "nodes.append(Node(10,5, \"A\"))\n",
    "nodes.append(Node(2, 34, \"A\"))\n",
    "nodes.append(Node(2,2, \"A\"))\n",
    "nodes.append(Node(3,1, \"A\"))\n",
    "nodes.append(Node(14,0.003, \"A\"))\n",
    "print('Todos os nós:')\n",
    "printNodes(nodes)\n",
    "print('Nós da envoltória:')\n",
    "\n",
    "p0 = calculateMinimumYCoord(nodes)\n",
    "CH = convexHull(orderByPolarAngle(nodes))\n",
    "\n",
    "nodesB = []\n",
    "nodesB.append(Node(210,40, \"B\"))\n",
    "nodesB.append(Node(230,80, \"B\"))\n",
    "nodesB.append(Node(230,90, \"B\"))\n",
    "nodesB.append(Node(280,90, \"B\"))\n",
    "\n",
    "p0 = calculateMinimumYCoord(nodesB)\n",
    "\n",
    "CH2 = convexHull(orderByPolarAngle(nodesB))\n",
    "\n",
    "b = convexHullIntersect(CH,CH2)\n",
    "print(b)\n",
    "\n",
    "allNodes = CH.append(CH2)\n",
    "       \n"
   ]
  }
 ],
 "metadata": {
  "colab": {
   "provenance": []
  },
  "kernelspec": {
   "display_name": "Python 3 (ipykernel)",
   "language": "python",
   "name": "python3"
  },
  "language_info": {
   "codemirror_mode": {
    "name": "ipython",
    "version": 3
   },
   "file_extension": ".py",
   "mimetype": "text/x-python",
   "name": "python",
   "nbconvert_exporter": "python",
   "pygments_lexer": "ipython3",
   "version": "3.10.6"
  }
 },
 "nbformat": 4,
 "nbformat_minor": 1
}
