{
 "cells": [
  {
   "cell_type": "markdown",
   "id": "1757b864",
   "metadata": {},
   "source": [
    "# classyfier DEMO\n",
    "## Demonstração passo a passo do classificador implementado"
   ]
  },
  {
   "cell_type": "markdown",
   "id": "6ca3aff0",
   "metadata": {},
   "source": [
    "Começaremos instalando todos os pacotes python utilizados através do comando ```pip install```.\n",
    "\n",
    "No terminal, digite:\n",
    "\n",
    "```\n",
    "pip install sortedcontainers functools numpy scipy\n",
    "```"
   ]
  },
  {
   "cell_type": "markdown",
   "id": "0862a9d2",
   "metadata": {},
   "source": [
    "Após a instalação dos pacotes, verifique se a base de dados iris.dat está disponível no diretório /inputs"
   ]
  },
  {
   "cell_type": "markdown",
   "id": "012d259f",
   "metadata": {},
   "source": [
    "Com todos os pacotes e base de dados disponíveis, importaremos todos os scrips na pasta /scripts que são necessários para a execução da demonstração"
   ]
  },
  {
   "cell_type": "code",
   "execution_count": 1,
   "id": "3655ae64",
   "metadata": {},
   "outputs": [],
   "source": [
    "import os\n",
    "import sys\n",
    "#Procurando arquivo .py na pasta scripts/\n",
    "sys.path.append(\"./scripts\")\n",
    "\n",
    "from convexHull import *\n",
    "from convexHullIntersect import convexHullIntersect\n",
    "from Closest import ClosestPoints\n",
    "from classifier import *\n",
    "from inputExample import inputExample"
   ]
  },
  {
   "cell_type": "markdown",
   "id": "bd2b09b5",
   "metadata": {},
   "source": [
    "O arquivo inputExample.py contém a funçao ```inputExample()``` que retorna 3 listas de pontos da base de dados iris.dat. Dois conjuntos de pontos com 70% dos dados com label '1' e outro 70% de pontos dos dados com label '-1', além de um terceiro conjunto de pontos com os 30% dos dados restantes, que serão usados para computar as métricas de eficiência do classificador."
   ]
  },
  {
   "cell_type": "code",
   "execution_count": 2,
   "id": "35f26a80",
   "metadata": {},
   "outputs": [],
   "source": [
    "setA, setB, evalPoints = inputExample()"
   ]
  },
  {
   "cell_type": "markdown",
   "id": "41590b0b",
   "metadata": {},
   "source": [
    "Com o conjunto de pontos de cada label, calcula-se a envoltória convexa de cada um dos conjuntos utilizando a função ```convexHull()```:"
   ]
  },
  {
   "cell_type": "code",
   "execution_count": 3,
   "id": "3f5916c5",
   "metadata": {},
   "outputs": [],
   "source": [
    "chA = convexHull(setA)\n",
    "chB = convexHull(setB)"
   ]
  },
  {
   "cell_type": "markdown",
   "id": "f049fe07",
   "metadata": {},
   "source": [
    "Com a função ```convexHullIntersect()```, testa-se se as envoltórias se intersectam:"
   ]
  },
  {
   "cell_type": "code",
   "execution_count": 4,
   "id": "76b6fa79",
   "metadata": {},
   "outputs": [
    {
     "name": "stdout",
     "output_type": "stream",
     "text": [
      "Envoltórias não se intersectam.\n"
     ]
    }
   ],
   "source": [
    "if(convexHullIntersect(chA, chB)):\n",
    "    print('Envoltórias se intersectam.')\n",
    "else:\n",
    "    print('Envoltórias não se intersectam.')"
   ]
  },
  {
   "cell_type": "markdown",
   "id": "aecd0095",
   "metadata": {},
   "source": [
    "Utilizando a função ```ClosestPoints()```, descobrimos os dois pontos mais próximos entre as duas envoltórias:"
   ]
  },
  {
   "cell_type": "code",
   "execution_count": 5,
   "id": "83be7eb0",
   "metadata": {},
   "outputs": [],
   "source": [
    "pA, pB = ClosestPoints(chA, chB)"
   ]
  },
  {
   "cell_type": "markdown",
   "id": "cf053188",
   "metadata": {},
   "source": [
    "Então, traça-se uma reta entre esses dois pontos e calcula-se a reta perpendicular através das funções ```Reta()``` e ```RetaPerpendicular()```:"
   ]
  },
  {
   "cell_type": "code",
   "execution_count": 6,
   "id": "4c5e427c",
   "metadata": {},
   "outputs": [],
   "source": [
    "mid = midPoint(pA, pB)\n",
    "m, w = Reta(pA,pB)\n",
    "m_inv, c = RetaPerpendicular(mid, m)"
   ]
  },
  {
   "cell_type": "markdown",
   "id": "d12f563e",
   "metadata": {},
   "source": [
    "Com isso obtêm-se o modelo abaixo:"
   ]
  },
  {
   "cell_type": "markdown",
   "id": "c3ee04a9",
   "metadata": {},
   "source": [
    "# INSERIR CÓDIGO DO GRÁFICO AQUI"
   ]
  },
  {
   "cell_type": "markdown",
   "id": "0ebb8d83",
   "metadata": {},
   "source": [
    "Com o modelo classificador pronto, podemos extrair os resutados de um experimento utilizando a função ```calculateMetrics(equation, evalPoints, pA)```. Note que esta função recebe como entrada, além da equação da reta perpendicular e a lista de pontos a serem inseridos no classificador, um ponto ```pA``` da label \"1\", que como referência para a classificação dos pontos de avaliação.\n"
   ]
  },
  {
   "cell_type": "code",
   "execution_count": 7,
   "id": "1bac6f2b",
   "metadata": {},
   "outputs": [],
   "source": [
    "equation = m_inv, c\n",
    "result = calculateMetrics(equation, evalPoints, pA)\n",
    "precisionA = result[0][0]\n",
    "recallA = result[0][1]\n",
    "f1scoreA = result[0][2]\n",
    "precisionB = result[1][0]\n",
    "recallB = result[1][1]\n",
    "f1scoreB = result[1][2]"
   ]
  },
  {
   "cell_type": "markdown",
   "id": "f1ec6b96",
   "metadata": {},
   "source": [
    "Assim, pudemos extrair os resultados do experimento com dataset iris.dat:"
   ]
  },
  {
   "cell_type": "code",
   "execution_count": 8,
   "id": "dc804779",
   "metadata": {},
   "outputs": [
    {
     "name": "stdout",
     "output_type": "stream",
     "text": [
      "set iris:\n",
      "\t precisionA = 0.500000 recallA = 0.933333 f1scoreA = 0.651163\n",
      "\n",
      "\t precisionB = 0.500000 recallB = 0.066667 f1scoreB = 0.117647\n",
      "\n"
     ]
    }
   ],
   "source": [
    "s = ((\"set iris:\\n\\t precisionA = %f recallA = %f f1scoreA = %f\\n\"%(precisionA, recallA, f1scoreA)))\n",
    "print(s)\n",
    "s = ((\"\\t precisionB = %f recallB = %f f1scoreB = %f\\n\"%(precisionB, recallB, f1scoreB)))\n",
    "print(s)"
   ]
  }
 ],
 "metadata": {
  "kernelspec": {
   "display_name": "Python 3",
   "language": "python",
   "name": "python3"
  },
  "language_info": {
   "codemirror_mode": {
    "name": "ipython",
    "version": 3
   },
   "file_extension": ".py",
   "mimetype": "text/x-python",
   "name": "python",
   "nbconvert_exporter": "python",
   "pygments_lexer": "ipython3",
   "version": "3.8.8"
  }
 },
 "nbformat": 4,
 "nbformat_minor": 5
}
